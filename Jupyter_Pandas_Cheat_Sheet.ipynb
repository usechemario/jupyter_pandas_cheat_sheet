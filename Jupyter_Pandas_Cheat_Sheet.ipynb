{
 "cells": [
  {
   "cell_type": "markdown",
   "metadata": {
    "colab_type": "text",
    "id": "eGpLyiQesE1l"
   },
   "source": [
    "# Jupyter Pandas Cheat Sheet"
   ]
  },
  {
   "cell_type": "markdown",
   "metadata": {},
   "source": [
    "## Introduction"
   ]
  },
  {
   "cell_type": "code",
   "execution_count": null,
   "metadata": {
    "colab": {},
    "colab_type": "code",
    "id": "SVrBJR3JsE1q"
   },
   "outputs": [],
   "source": [
    "import pandas as pd\n",
    "import numpy as np\n"
   ]
  },
  {
   "cell_type": "markdown",
   "metadata": {},
   "source": [
    "## Some display options"
   ]
  },
  {
   "cell_type": "code",
   "execution_count": null,
   "metadata": {},
   "outputs": [],
   "source": [
    "import pandas as pd\n",
    "\n",
    "# Use 3 decimal places in output display\n",
    "pd.set_option(\"display.precision\", 3)\n",
    "\n",
    "# Don't wrap repr(DataFrame) across additional lines\n",
    "pd.set_option(\"display.expand_frame_repr\", False)\n",
    "\n",
    "# Set max rows displayed in output to 25\n",
    "pd.set_option(\"display.max_rows\", 25)"
   ]
  },
  {
   "cell_type": "code",
   "execution_count": null,
   "metadata": {
    "colab": {},
    "colab_type": "code",
    "id": "tO_6cEhdsE1m"
   },
   "outputs": [],
   "source": [
    "#import csv-File in dataframe df\n",
    "df = pd.read_csv('Data/IMDB_Movie_Data.csv' ,sep=\",\") \n",
    "df"
   ]
  },
  {
   "cell_type": "code",
   "execution_count": null,
   "metadata": {},
   "outputs": [],
   "source": [
    "#export dataframe df to csv file my-data\n",
    "df.to_csv ('Data/my-data.csv' , index = False, header=True) "
   ]
  },
  {
   "cell_type": "markdown",
   "metadata": {
    "colab_type": "text",
    "id": "KtiW_1wxsE1s"
   },
   "source": [
    "## Exploring Data"
   ]
  },
  {
   "cell_type": "code",
   "execution_count": null,
   "metadata": {
    "colab": {},
    "colab_type": "code",
    "id": "uJWkNfh2sE1s"
   },
   "outputs": [],
   "source": [
    "df.head()       # first five rows"
   ]
  },
  {
   "cell_type": "code",
   "execution_count": null,
   "metadata": {
    "colab": {},
    "colab_type": "code",
    "id": "vDyoflvZsE1u"
   },
   "outputs": [],
   "source": [
    "df.tail()       # last five rows"
   ]
  },
  {
   "cell_type": "code",
   "execution_count": null,
   "metadata": {
    "colab": {},
    "colab_type": "code",
    "id": "m5t3UARWsE1w"
   },
   "outputs": [],
   "source": [
    "df.sample(5)    # random sample of rows"
   ]
  },
  {
   "cell_type": "code",
   "execution_count": null,
   "metadata": {
    "colab": {},
    "colab_type": "code",
    "id": "yrqiw0uvsE1y"
   },
   "outputs": [],
   "source": [
    "df.shape        # number of rows/columns "
   ]
  },
  {
   "cell_type": "code",
   "execution_count": null,
   "metadata": {
    "colab": {},
    "colab_type": "code",
    "id": "v9BHlaDPsE10"
   },
   "outputs": [],
   "source": [
    "df.describe()   # calculates measures of central tendency"
   ]
  },
  {
   "cell_type": "code",
   "execution_count": null,
   "metadata": {
    "colab": {},
    "colab_type": "code",
    "id": "jMcHtE1osE13"
   },
   "outputs": [],
   "source": [
    "df.info()       # memory footprint and datatypes"
   ]
  },
  {
   "cell_type": "markdown",
   "metadata": {
    "colab_type": "text",
    "id": "YPuaU6WwsE15"
   },
   "source": [
    "## Statistics"
   ]
  },
  {
   "cell_type": "code",
   "execution_count": null,
   "metadata": {
    "colab": {},
    "colab_type": "code",
    "id": "7ew_en0gsE15"
   },
   "outputs": [],
   "source": [
    "df.describe() # Summary statistics for numerical columns"
   ]
  },
  {
   "cell_type": "code",
   "execution_count": null,
   "metadata": {
    "colab": {},
    "colab_type": "code",
    "id": "dRrUEE9YsE17"
   },
   "outputs": [],
   "source": [
    "df.mean() # Returns the mean of all columns"
   ]
  },
  {
   "cell_type": "code",
   "execution_count": null,
   "metadata": {
    "colab": {},
    "colab_type": "code",
    "id": "uueSfSDFsE19"
   },
   "outputs": [],
   "source": [
    "df.corr() # Returns the correlation between columns in a DataFrame"
   ]
  },
  {
   "cell_type": "code",
   "execution_count": null,
   "metadata": {
    "colab": {},
    "colab_type": "code",
    "id": "8ZB5LapYsE1_"
   },
   "outputs": [],
   "source": [
    "df.count() # Returns the number of non-null values in each DataFrame column"
   ]
  },
  {
   "cell_type": "code",
   "execution_count": null,
   "metadata": {
    "colab": {},
    "colab_type": "code",
    "id": "h6m178QesE2B"
   },
   "outputs": [],
   "source": [
    "df.max()  # Returns the highest value in each column"
   ]
  },
  {
   "cell_type": "code",
   "execution_count": null,
   "metadata": {
    "colab": {},
    "colab_type": "code",
    "id": "ZIg1QIK0sE2C"
   },
   "outputs": [],
   "source": [
    "df.min() # Returns the lowest value in each column"
   ]
  },
  {
   "cell_type": "code",
   "execution_count": null,
   "metadata": {
    "colab": {},
    "colab_type": "code",
    "id": "Px7XngZ6sE2E"
   },
   "outputs": [],
   "source": [
    "df.median() # Returns the median of each column"
   ]
  },
  {
   "cell_type": "code",
   "execution_count": null,
   "metadata": {
    "colab": {},
    "colab_type": "code",
    "id": "lPmwUgyksE2G"
   },
   "outputs": [],
   "source": [
    "df.std() # Returns the standard deviation of each column"
   ]
  },
  {
   "cell_type": "markdown",
   "metadata": {
    "colab_type": "text",
    "id": "-N0ekDdYsE2J"
   },
   "source": [
    "## Import Data from Files"
   ]
  },
  {
   "cell_type": "markdown",
   "metadata": {
    "colab_type": "text",
    "id": "3bNwNxZFsE2M"
   },
   "source": [
    "### Import csv"
   ]
  },
  {
   "cell_type": "code",
   "execution_count": null,
   "metadata": {
    "colab": {},
    "colab_type": "code",
    "id": "punCTVKNsE2M"
   },
   "outputs": [],
   "source": [
    "df = pd.read_csv('Data/my-data.csv' ,sep=\",\") \n",
    "df"
   ]
  },
  {
   "cell_type": "markdown",
   "metadata": {
    "colab_type": "text",
    "id": "17hb5hr-sE2O"
   },
   "source": [
    "### Import xls"
   ]
  },
  {
   "cell_type": "code",
   "execution_count": null,
   "metadata": {
    "colab": {},
    "colab_type": "code",
    "id": "4JgXDDz4sE2O",
    "tags": []
   },
   "outputs": [],
   "source": [
    "df = pd.read_excel('Data/my-data.xlsx')"
   ]
  },
  {
   "cell_type": "code",
   "execution_count": null,
   "metadata": {
    "colab": {},
    "colab_type": "code",
    "id": "-oMscaGJsE2Q"
   },
   "outputs": [],
   "source": [
    "df = pd.read_excel('Data/my-data.xlsx',\n",
    "    sheetname='sheet1',\n",
    "    skiprows=[1] # header data\n",
    ")"
   ]
  },
  {
   "cell_type": "markdown",
   "metadata": {
    "colab_type": "text",
    "id": "KGdnWYXIsE2d"
   },
   "source": [
    "## Export Data to files"
   ]
  },
  {
   "cell_type": "markdown",
   "metadata": {
    "colab_type": "text",
    "id": "hlgqYQZhsE2d"
   },
   "source": [
    "### Export xls"
   ]
  },
  {
   "cell_type": "code",
   "execution_count": null,
   "metadata": {
    "colab": {},
    "colab_type": "code",
    "id": "LUAsvjKZsE2e",
    "tags": []
   },
   "outputs": [],
   "source": [
    "df.to_excel('Data/my-data.xlsx')"
   ]
  },
  {
   "cell_type": "markdown",
   "metadata": {
    "colab_type": "text",
    "id": "qFzqP8c8sE2f"
   },
   "source": [
    "### Export csv"
   ]
  },
  {
   "cell_type": "code",
   "execution_count": null,
   "metadata": {
    "colab": {},
    "colab_type": "code",
    "id": "gBPvJyAbsE2h"
   },
   "outputs": [],
   "source": [
    "df.to_csv ('Data/my-data.csv' , index = False, header=True) "
   ]
  },
  {
   "cell_type": "markdown",
   "metadata": {
    "colab_type": "text",
    "id": "dScpc1xWsE2k"
   },
   "source": [
    "## Column manipulation"
   ]
  },
  {
   "cell_type": "markdown",
   "metadata": {
    "colab_type": "text",
    "id": "zczOiOMtsE2k"
   },
   "source": [
    "### Column Filter"
   ]
  },
  {
   "cell_type": "code",
   "execution_count": null,
   "metadata": {
    "colab": {},
    "colab_type": "code",
    "id": "N8fSKV_vsE2k"
   },
   "outputs": [],
   "source": [
    "df[['Title','Rating']]"
   ]
  },
  {
   "cell_type": "code",
   "execution_count": null,
   "metadata": {
    "colab": {},
    "colab_type": "code",
    "id": "WqZzxMT5sE2m"
   },
   "outputs": [],
   "source": [
    "df.filter(['Title','Rating'])"
   ]
  },
  {
   "cell_type": "markdown",
   "metadata": {
    "colab_type": "text",
    "id": "cg5pOH55sE2n"
   },
   "source": [
    "### Column Rename"
   ]
  },
  {
   "cell_type": "code",
   "execution_count": null,
   "metadata": {
    "colab": {},
    "colab_type": "code",
    "id": "88upHmHCsE2o"
   },
   "outputs": [],
   "source": [
    "df.rename(columns={'Title': 'a', 'Rating': 'c'},inplace=True)\n",
    "df"
   ]
  },
  {
   "cell_type": "code",
   "execution_count": null,
   "metadata": {},
   "outputs": [],
   "source": [
    "#rename the columns back\n",
    "df.rename(columns={'a': 'Title', 'c': 'Rating'},inplace=True)\n",
    "df"
   ]
  },
  {
   "cell_type": "markdown",
   "metadata": {
    "colab_type": "text",
    "id": "hjNOG-w7sE2p"
   },
   "source": [
    "### Column Resorter/Reorder"
   ]
  },
  {
   "cell_type": "code",
   "execution_count": null,
   "metadata": {
    "colab": {},
    "colab_type": "code",
    "id": "HDyCgSbdsE2q"
   },
   "outputs": [],
   "source": [
    "# show column values\n",
    "df.columns.values"
   ]
  },
  {
   "cell_type": "code",
   "execution_count": null,
   "metadata": {
    "colab": {},
    "colab_type": "code",
    "id": "9QrawGlpsE2r"
   },
   "outputs": [],
   "source": [
    "# reorder Rating after Title\n",
    "df[['Title', 'Rating','Genre', 'Description', 'Director', 'Actors', 'Year',\n",
    "       'Runtime (Minutes)',  'Votes', 'Revenue (Millions)',\n",
    "       'Metascore']]"
   ]
  },
  {
   "cell_type": "markdown",
   "metadata": {
    "colab_type": "text",
    "id": "wDsdCl7IsE2t"
   },
   "source": [
    "### Constant Value Column"
   ]
  },
  {
   "cell_type": "code",
   "execution_count": null,
   "metadata": {
    "colab": {},
    "colab_type": "code",
    "id": "3nsBM-pbsE2u"
   },
   "outputs": [],
   "source": [
    "df['new_column'] = 23\n",
    "df.head()"
   ]
  },
  {
   "cell_type": "markdown",
   "metadata": {
    "colab_type": "text",
    "id": "m_81lVSJsE2v"
   },
   "source": [
    "### Math Formula"
   ]
  },
  {
   "cell_type": "code",
   "execution_count": null,
   "metadata": {
    "colab": {},
    "colab_type": "code",
    "id": "nj02P_uasE2v"
   },
   "outputs": [],
   "source": [
    "df['Rating_Votes'] = df.Rating + df.Votes\n",
    "df[['Rating_Votes','Rating','Votes']].head()"
   ]
  },
  {
   "cell_type": "markdown",
   "metadata": {
    "colab_type": "text",
    "id": "QvH6ybhmsE2x"
   },
   "source": [
    "### Number to String"
   ]
  },
  {
   "cell_type": "code",
   "execution_count": null,
   "metadata": {
    "colab": {},
    "colab_type": "code",
    "id": "jINtjjg9sE2x"
   },
   "outputs": [],
   "source": [
    "df['Year_str'] =df['Year'].astype(str)\n",
    "df.info()"
   ]
  },
  {
   "cell_type": "markdown",
   "metadata": {
    "colab_type": "text",
    "id": "BWvNF6SesE2z"
   },
   "source": [
    "### String to Number"
   ]
  },
  {
   "cell_type": "code",
   "execution_count": null,
   "metadata": {
    "colab": {},
    "colab_type": "code",
    "id": "d1LDvAkmsE2z"
   },
   "outputs": [],
   "source": [
    "df['Year_int'] =df['Year_str'].astype(int)\n",
    "df.info()"
   ]
  },
  {
   "cell_type": "markdown",
   "metadata": {
    "colab_type": "text",
    "id": "oPDHKK_1sE21"
   },
   "source": [
    "### Double to Int"
   ]
  },
  {
   "cell_type": "code",
   "execution_count": null,
   "metadata": {
    "colab": {},
    "colab_type": "code",
    "id": "rbEyse0SsE22"
   },
   "outputs": [],
   "source": [
    "df['Rating_int'] = df['Rating'].round(0).astype(int)\n",
    "df[['Rating_int','Rating']].head()"
   ]
  },
  {
   "cell_type": "markdown",
   "metadata": {
    "colab_type": "text",
    "id": "H6bIYx9DsE23"
   },
   "source": [
    "### String Replacer"
   ]
  },
  {
   "cell_type": "code",
   "execution_count": null,
   "metadata": {
    "colab": {},
    "colab_type": "code",
    "id": "P749L9kAsE24"
   },
   "outputs": [],
   "source": [
    "df['Title'].replace('Prometheus', 'Alien') \n",
    "df[df.Title == 'Prometheus']"
   ]
  },
  {
   "cell_type": "markdown",
   "metadata": {
    "colab_type": "text",
    "id": "yEYKAszdsE26"
   },
   "source": [
    "### String Manipulation"
   ]
  },
  {
   "cell_type": "code",
   "execution_count": null,
   "metadata": {
    "colab": {},
    "colab_type": "code",
    "id": "KTZDcHvSsE26"
   },
   "outputs": [],
   "source": [
    "# lower cases\n",
    "df['Title2'] = df['Title'].str.lower()\n",
    "df[['Title2','Title']].head()"
   ]
  },
  {
   "cell_type": "code",
   "execution_count": null,
   "metadata": {
    "colab": {},
    "colab_type": "code",
    "id": "y74_9grxsE28"
   },
   "outputs": [],
   "source": [
    "# upper cases\n",
    "df['Title2'] = df['Title'].str.upper() \n",
    "df[['Title2','Title']].head()"
   ]
  },
  {
   "cell_type": "code",
   "execution_count": null,
   "metadata": {
    "colab": {},
    "colab_type": "code",
    "id": "wcJphfKksE2-"
   },
   "outputs": [],
   "source": [
    "# length of words\n",
    "df['Title2'] = df['Title'].str.len() \n",
    "df[['Title2','Title']].head()"
   ]
  },
  {
   "cell_type": "code",
   "execution_count": null,
   "metadata": {
    "colab": {},
    "colab_type": "code",
    "id": "IGQPasBnsE3A"
   },
   "outputs": [],
   "source": [
    "# first word\n",
    "df['Title2'] = df['Title'].str.split(' ').str[0]\n",
    "df[['Title2','Title']].head()"
   ]
  },
  {
   "cell_type": "code",
   "execution_count": null,
   "metadata": {
    "colab": {},
    "colab_type": "code",
    "id": "DtqGVu7vsE3B"
   },
   "outputs": [],
   "source": [
    "# find the word \"Squad\" in Title\n",
    "df['Title2'] = df['Title'].str.find('Squad', 0) \n",
    "df[['Title2','Title']].head()"
   ]
  },
  {
   "cell_type": "markdown",
   "metadata": {
    "colab_type": "text",
    "id": "iTUcV4A0sE3C"
   },
   "source": [
    "### Date manipulation"
   ]
  },
  {
   "cell_type": "code",
   "execution_count": null,
   "metadata": {
    "colab": {},
    "colab_type": "code",
    "id": "rNqV6UDfsE3D"
   },
   "outputs": [],
   "source": [
    "pd.to_datetime('2010/11/12')"
   ]
  },
  {
   "cell_type": "markdown",
   "metadata": {
    "colab_type": "text",
    "id": "egBiGQ42sE3E"
   },
   "source": [
    "### Sort"
   ]
  },
  {
   "cell_type": "code",
   "execution_count": null,
   "metadata": {
    "colab": {},
    "colab_type": "code",
    "id": "fgWUX1UksE3E"
   },
   "outputs": [],
   "source": [
    "df.sort_values(by='Title', ascending=True)"
   ]
  },
  {
   "cell_type": "code",
   "execution_count": null,
   "metadata": {
    "colab": {},
    "colab_type": "code",
    "id": "E7ziwjY_sE3G"
   },
   "outputs": [],
   "source": [
    "df.sort_values(by=['Director','Year'], ascending=True)"
   ]
  },
  {
   "cell_type": "markdown",
   "metadata": {
    "colab_type": "text",
    "id": "vnr3eFWosE3I"
   },
   "source": [
    "## Row manipulation"
   ]
  },
  {
   "cell_type": "markdown",
   "metadata": {
    "colab_type": "text",
    "id": "jpDR6XP4sE3J"
   },
   "source": [
    "### Row Filter"
   ]
  },
  {
   "cell_type": "code",
   "execution_count": null,
   "metadata": {
    "colab": {},
    "colab_type": "code",
    "id": "mkfq7B7VsE3J"
   },
   "outputs": [],
   "source": [
    "# select Title 'Prometheus'\n",
    "df[df.Title == 'Prometheus']"
   ]
  },
  {
   "cell_type": "code",
   "execution_count": null,
   "metadata": {
    "colab": {},
    "colab_type": "code",
    "id": "5fAwYdRlsE3K"
   },
   "outputs": [],
   "source": [
    "# select Rating greater or equal 8.5\n",
    "df[df.Rating >= 8.5]"
   ]
  },
  {
   "cell_type": "code",
   "execution_count": null,
   "metadata": {
    "colab": {},
    "colab_type": "code",
    "id": "FDnGiI4lsE3N"
   },
   "outputs": [],
   "source": [
    "# select Year equal 2016 and Rating greater or equal 8.5\n",
    "df[(df.Year == 2016) & (df.Rating >= 8.5)]"
   ]
  },
  {
   "cell_type": "code",
   "execution_count": null,
   "metadata": {
    "colab": {},
    "colab_type": "code",
    "id": "apZKVqiBsE3O"
   },
   "outputs": [],
   "source": [
    "# select Title with 'Prometheus','Sing', 'Guardians of the Galaxy'\n",
    "titel = ['Prometheus','Sing', 'Guardians of the Galaxy']\n",
    "df[df.Title.isin(titel)]"
   ]
  },
  {
   "cell_type": "code",
   "execution_count": null,
   "metadata": {
    "colab": {},
    "colab_type": "code",
    "id": "TyiA6Gw7sE3R"
   },
   "outputs": [],
   "source": [
    "# select years in 2010,2015,002\n",
    "years = [2010,2015,2002]\n",
    "df[df.Year.isin(years)]"
   ]
  },
  {
   "cell_type": "code",
   "execution_count": null,
   "metadata": {
    "colab": {},
    "colab_type": "code",
    "id": "uY1yzonCsE3S"
   },
   "outputs": [],
   "source": [
    "# Selects rows 1-to-3\n",
    "df.iloc[0:3]"
   ]
  },
  {
   "cell_type": "code",
   "execution_count": null,
   "metadata": {
    "colab": {},
    "colab_type": "code",
    "id": "H-N8lxtBsE3T"
   },
   "outputs": [],
   "source": [
    "# First 4 rows and first 2 columns\n",
    "df.iloc[0:4, 0:2]"
   ]
  },
  {
   "cell_type": "markdown",
   "metadata": {
    "colab_type": "text",
    "id": "Hy24-kBqsE3V"
   },
   "source": [
    "## Table Manipulation"
   ]
  },
  {
   "cell_type": "markdown",
   "metadata": {
    "colab_type": "text",
    "id": "DLSp7KOqsE3W"
   },
   "source": [
    "### Group By"
   ]
  },
  {
   "cell_type": "code",
   "execution_count": null,
   "metadata": {
    "colab": {},
    "colab_type": "code",
    "id": "Zvs6C5-JsE3W"
   },
   "outputs": [],
   "source": [
    "# number of titles per year\n",
    "df.groupby(\"Year\")[\"Title\"].count().to_frame() "
   ]
  },
  {
   "cell_type": "code",
   "execution_count": null,
   "metadata": {
    "colab": {},
    "colab_type": "code",
    "id": "myYAiyKPsE3X"
   },
   "outputs": [],
   "source": [
    "# number of titles per year and per director\n",
    "df.groupby([\"Year\",\"Director\"])[\"Title\"].count().to_frame().reset_index()"
   ]
  },
  {
   "cell_type": "code",
   "execution_count": null,
   "metadata": {
    "colab": {},
    "colab_type": "code",
    "id": "FEeTVXXYsE3Z"
   },
   "outputs": [],
   "source": [
    "# number of titles per director\n",
    "df.groupby([\"Director\"])[\"Title\"].count().to_frame(name = 'count').reset_index() "
   ]
  },
  {
   "cell_type": "code",
   "execution_count": null,
   "metadata": {
    "colab": {},
    "colab_type": "code",
    "id": "QYeSanH3sE3b"
   },
   "outputs": [],
   "source": [
    "# Total revenue per year and per director\n",
    "df.groupby([\"Year\",\"Director\"])[\"Revenue (Millions)\"].sum().to_frame().reset_index()"
   ]
  },
  {
   "cell_type": "code",
   "execution_count": null,
   "metadata": {
    "colab": {},
    "colab_type": "code",
    "id": "Upr1wVs8sE3c"
   },
   "outputs": [],
   "source": [
    "# Rating-Mean per director\n",
    "df.groupby(\"Director\")[\"Rating\"].mean().to_frame().reset_index()"
   ]
  },
  {
   "cell_type": "code",
   "execution_count": null,
   "metadata": {
    "colab": {},
    "colab_type": "code",
    "id": "0TIrYybDsE3f"
   },
   "outputs": [],
   "source": [
    "# combination of different group by functions\n",
    "df.groupby([\"Year\",\"Director\"]).agg(\n",
    "    {\n",
    "         'Title':\"count\",  # number of titles per year and director\n",
    "         'Rating':\"mean\",  # Rating-Mean per director\n",
    "         'Revenue (Millions)': \"sum\"  # Total revenue per year and director\n",
    "    }\n",
    ").reset_index() "
   ]
  },
  {
   "cell_type": "markdown",
   "metadata": {
    "colab_type": "text",
    "id": "FZ_lH4DbsE3g"
   },
   "source": [
    "### Pivot / Unpivot"
   ]
  },
  {
   "cell_type": "code",
   "execution_count": null,
   "metadata": {
    "colab": {},
    "colab_type": "code",
    "id": "IZiBo0A_sE3g"
   },
   "outputs": [],
   "source": [
    "# Pivot over Director and mean over all other columns\n",
    "pd.pivot_table(df,index=[\"Director\"]).reset_index()\n"
   ]
  },
  {
   "cell_type": "code",
   "execution_count": null,
   "metadata": {
    "colab": {},
    "colab_type": "code",
    "id": "qTr9hN-MsE3h"
   },
   "outputs": [],
   "source": [
    "# Pivot with sum\n",
    "df_rev_sum = pd.pivot_table(df,index=[\"Director\",\"Year\"],values=[\"Revenue (Millions)\"],aggfunc=np.sum).reset_index()\n",
    "df_rev_sum"
   ]
  },
  {
   "cell_type": "code",
   "execution_count": null,
   "metadata": {
    "colab": {},
    "colab_type": "code",
    "id": "xpZqLmicsE3i"
   },
   "outputs": [],
   "source": [
    "# Unpivot over years\n",
    "df_rating = pd.pivot_table(df,values=['Rating'], columns=['Year']).reset_index()\n",
    "df_rating"
   ]
  },
  {
   "cell_type": "code",
   "execution_count": null,
   "metadata": {
    "colab": {},
    "colab_type": "code",
    "id": "itkzSqwfsE3k",
    "tags": []
   },
   "outputs": [],
   "source": [
    "df4.melt(id_vars=['index'],var_name='Year',value_name='Title')"
   ]
  },
  {
   "cell_type": "markdown",
   "metadata": {
    "colab_type": "text",
    "id": "VzFV8lOMsE3m"
   },
   "source": [
    "### Join   ==> I would include some real Join exemples"
   ]
  },
  {
   "cell_type": "code",
   "execution_count": null,
   "metadata": {
    "colab": {},
    "colab_type": "code",
    "id": "OJfF97B1sE3m"
   },
   "outputs": [],
   "source": [
    "# create new dataframe \"df_dir_movies\"\n",
    "df_dir_movies = df.groupby([\"Director\"])[\"Title\"].count().to_frame(name = 'number of movies').reset_index()\n",
    "df_dir_movies"
   ]
  },
  {
   "cell_type": "code",
   "execution_count": null,
   "metadata": {},
   "outputs": [],
   "source": [
    "# create new dataframe \"df_dir_rev\"\n",
    "df_dir_rev = df.groupby([\"Director\"])[\"Revenue (Millions)\"].sum().to_frame(name = 'Revenue').reset_index()\n",
    "df_dir_rev"
   ]
  },
  {
   "cell_type": "code",
   "execution_count": null,
   "metadata": {},
   "outputs": [],
   "source": [
    "# join the dataframe \"df_dir_movies\" with \"df_dir_rev\"\n",
    "# how = rigtht, left, inner or outer\n",
    "pd.merge(df_dir_movies,df_dir_rev, left_on=['Director'], right_on=['Director'],how = 'left') \n"
   ]
  },
  {
   "cell_type": "markdown",
   "metadata": {
    "colab_type": "text",
    "id": "xl7jKx5nsE3n"
   },
   "source": [
    "### Concatenate"
   ]
  },
  {
   "cell_type": "code",
   "execution_count": null,
   "metadata": {
    "colab": {},
    "colab_type": "code",
    "id": "OzGbbddisE3n"
   },
   "outputs": [],
   "source": [
    "df2 = df\n",
    "df.append(df2) # Append df2 to df (The columns must be the same in both dataframes)"
   ]
  },
  {
   "cell_type": "code",
   "execution_count": null,
   "metadata": {
    "colab": {},
    "colab_type": "code",
    "id": "FhmVi5xasE3o"
   },
   "outputs": [],
   "source": [
    "pd.concat([df, df2],axis=0) # concatenate two dataframes\n"
   ]
  },
  {
   "cell_type": "markdown",
   "metadata": {},
   "source": [
    "## Import Data from Databases"
   ]
  },
  {
   "cell_type": "markdown",
   "metadata": {},
   "source": [
    "### Import from mysql"
   ]
  },
  {
   "cell_type": "code",
   "execution_count": null,
   "metadata": {
    "colab": {},
    "colab_type": "code",
    "id": "poN7A2DssE2X"
   },
   "outputs": [],
   "source": [
    "import pymysql\n",
    "\n",
    "conn = pymysql.connect(host='localhost',port=3306, db='database',user='root',password='pw')\n",
    "\n",
    "df = pd.read_sql_query(\n",
    "\"SELECT * FROM table LIMIT 3;\",\n",
    "    conn)\n",
    "df.tail(100)"
   ]
  },
  {
   "cell_type": "markdown",
   "metadata": {},
   "source": [
    "### Import Teradata"
   ]
  },
  {
   "cell_type": "code",
   "execution_count": null,
   "metadata": {},
   "outputs": [],
   "source": [
    "import teradata\n",
    " \n",
    "#Make a connection\n",
    "session = udaExec.connect(method=\"odbc\",\n",
    "                          USEREGIONALSETTINGS=\"N\",\n",
    "                          system= \"dwh\",\n",
    "                          username = \"root\",\n",
    "                          password = \"pw\");  \n",
    "query = \"SELECT * FROM DATABASEX.TABLENAMEX\"\n",
    "#Reading query to df\n",
    "df = pd.read_sql(query,session)\n",
    "# do something with df,e.g.\n",
    "print(df.head()) #to see the first 5 rows"
   ]
  },
  {
   "cell_type": "markdown",
   "metadata": {
    "tags": []
   },
   "source": [
    "### Import SAP-Hana"
   ]
  },
  {
   "cell_type": "code",
   "execution_count": null,
   "metadata": {},
   "outputs": [],
   "source": [
    "import pyhdb\n",
    " \n",
    "connection = pyhdb.connect(\n",
    "    host=\"localhost\",\n",
    "    port=30015,\n",
    "    user=\"root,\n",
    "    password=\"pw\"\n",
    ")\n",
    "print(connection.isconnected())\n",
    "query = \"SELECT * FROM HDB_REPORT.\\\"Table\\\"\"\n",
    "df = pd.read_sql(query,connection)\n",
    "# do something with df,e.g.\n",
    "print(df.head()) #to see the first 5 rows"
   ]
  },
  {
   "cell_type": "markdown",
   "metadata": {
    "tags": []
   },
   "source": [
    "### Import from MicroStrategy\n",
    "https://github.com/MicroStrategy/mstrio-py/blob/master/examples/cube_report.py"
   ]
  },
  {
   "cell_type": "code",
   "execution_count": null,
   "metadata": {},
   "outputs": [],
   "source": [
    "from mstrio.connection import Connection\n",
    "from mstrio.project_objects import OlapCube, Report\n",
    "\n",
    "\n",
    "# get connection to an environment\n",
    "base_url = \"https://<>/MicroStrategyLibrary/api\"\n",
    "username = \"some_username\"\n",
    "password = \"some_password\"\n",
    "connection = Connection(base_url, username, password, project_name=\"MicroStrategy Tutorial\",\n",
    "                        login_mode=1)\n",
    "\n",
    "cube_id = \"some_cube_id\"\n",
    "report_id = \"some_report_id\"\n",
    "\n",
    "# get cube based on its id and store it in data frame\n",
    "my_cube = OlapCube(connection=connection, id=cube_id)\n",
    "my_cube_df = my_cube.to_dataframe"
   ]
  },
  {
   "cell_type": "markdown",
   "metadata": {
    "tags": []
   },
   "source": [
    "### Publish to MicroStrategy\n",
    "https://github.com/MicroStrategy/mstrio-py/blob/master/examples/create_super_cube.py"
   ]
  },
  {
   "cell_type": "code",
   "execution_count": null,
   "metadata": {},
   "outputs": [],
   "source": [
    "rom mstrio.connection import Connection\n",
    "from mstrio.project_objects.datasets import SuperCube\n",
    "\n",
    "# create connection\n",
    "base_url = \"https://<>/MicroStrategyLibrary/api\"\n",
    "username = \"some_username\"\n",
    "password = \"some_password\"\n",
    "connection = Connection(base_url, username, password, project_name=\"MicroStrategy Tutorial\",\n",
    "                        login_mode=1)\n",
    "\n",
    "# prepare Pandas DataFrames to add it into tables of super cube\n",
    "stores = {\"store_id\": [1, 2, 3], \"location\": [\"New York\", \"Seattle\", \"Los Angeles\"]}\n",
    "stores_df = pd.DataFrame(stores, columns=[\"store_id\", \"location\"])\n",
    "\n",
    "sales = {\n",
    "    \"store_id\": [1, 2, 3],\n",
    "    \"category\": [\"TV\", \"Books\", \"Accessories\"],\n",
    "    \"sales\": [400, 200, 100],\n",
    "    \"sales_fmt\": [\"$400\", \"$200\", \"$100\"]\n",
    "}\n",
    "sales_df = pd.DataFrame(sales, columns=[\"store_id\", \"category\", \"sales\", \"sales_fmt\"])\n",
    "\n",
    "# Add tables to the super cube and create it. By default 'create()' will\n",
    "# additionally upload data to the I-Server and publish it. You can manipulate it\n",
    "# by setting parameters `auto_upload` and `auto_publish`\n",
    "ds = SuperCube(connection=connection, name=\"Store Analysis\")\n",
    "ds.add_table(name=\"Stores\", data_frame=stores_df, update_policy=\"replace\")\n",
    "ds.add_table(name=\"Sales\", data_frame=sales_df, update_policy=\"replace\")\n",
    "ds.create()"
   ]
  }
 ],
 "metadata": {
  "colab": {
   "name": "Cheat_Sheet.ipynb",
   "provenance": [],
   "toc_visible": true
  },
  "kernelspec": {
   "display_name": "Python 3",
   "language": "python",
   "name": "python3"
  },
  "language_info": {
   "codemirror_mode": {
    "name": "ipython",
    "version": 3
   },
   "file_extension": ".py",
   "mimetype": "text/x-python",
   "name": "python",
   "nbconvert_exporter": "python",
   "pygments_lexer": "ipython3",
   "version": "3.7.0"
  },
  "toc": {
   "base_numbering": 1,
   "nav_menu": {},
   "number_sections": false,
   "sideBar": true,
   "skip_h1_title": false,
   "title_cell": "Table of Contents",
   "title_sidebar": "Contents",
   "toc_cell": false,
   "toc_position": {
    "height": "calc(100% - 180px)",
    "left": "10px",
    "top": "150px",
    "width": "196px"
   },
   "toc_section_display": true,
   "toc_window_display": true
  }
 },
 "nbformat": 4,
 "nbformat_minor": 4
}
